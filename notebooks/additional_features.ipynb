{
 "cells": [
  {
   "cell_type": "code",
   "execution_count": null,
   "metadata": {},
   "outputs": [],
   "source": [
    "# TODO:\n",
    "# - Geocode\n",
    "# - Average income\n",
    "# - Population density\n",
    "# - Competitors\n",
    "# - Cost of living impact\n",
    "# - COVID impact?\n",
    "# - Footfall?"
   ]
  },
  {
   "cell_type": "markdown",
   "metadata": {},
   "source": [
    "### Clean and add UUIDs"
   ]
  },
  {
   "cell_type": "code",
   "execution_count": null,
   "metadata": {},
   "outputs": [],
   "source": [
    "import uuid\n",
    "import pandas as pd\n",
    "\n",
    "aldi_df = pd.read_csv(\"../data/scraped_stores.csv\")\n",
    "aldi_df = aldi_df.iloc[:, 1:]\n",
    "aldi_df[\"uuid\"] = [str(uuid.uuid4()) for _ in range(aldi_df.shape[0])]"
   ]
  },
  {
   "cell_type": "markdown",
   "metadata": {},
   "source": [
    "## Geocode store addresses"
   ]
  },
  {
   "cell_type": "code",
   "execution_count": null,
   "metadata": {},
   "outputs": [],
   "source": [
    "import os\n",
    "import requests\n",
    "import geopandas as gpd\n",
    "from dotenv import load_dotenv\n",
    "from shapely.geometry import Point\n",
    "from time import sleep\n",
    "\n",
    "load_dotenv(\"../.env\")\n",
    "tomtom_api_key = os.environ.get(\"TOMTOM_API_KEY\")\n",
    "\n",
    "base_url = \"https://api.tomtom.com/search/2/geocode/\"\n",
    "\n",
    "def geocode(address: str) -> Point:\n",
    "    sleep(0.5)\n",
    "    print(f\"Geocoding {address}\")\n",
    "    res = requests.get(f\"{base_url}ALDI Supermarket, {address}.json?key={tomtom_api_key}&countrySet=GB\")\n",
    "\n",
    "    if res.status_code != 200:\n",
    "        print(\"FAILED: Bad status code\")\n",
    "        return None\n",
    "    if res.json().get(\"summary\").get(\"totalResults\") <= 0:\n",
    "        print(\"FAILED: No results\")\n",
    "        return None\n",
    "\n",
    "    results = res.json().get(\"results\")\n",
    "    lat = results[0].get(\"position\", {}).get(\"lat\")\n",
    "    lon = results[0].get(\"position\", {}).get(\"lon\")\n",
    "    return Point(lon, lat)\n",
    "\n",
    "aldi_df[\"geometry\"] = aldi_df[\"full_address\"].apply(geocode)\n",
    "aldi_gdf = gpd.GeoDataFrame(aldi_df, crs=\"EPSG:4326\")\n",
    "aldi_gdf.to_file(\"../data/geocoded_stores.geojson\", driver=\"GeoJSON\")"
   ]
  }
 ],
 "metadata": {
  "kernelspec": {
   "display_name": "venv",
   "language": "python",
   "name": "python3"
  },
  "language_info": {
   "codemirror_mode": {
    "name": "ipython",
    "version": 3
   },
   "file_extension": ".py",
   "mimetype": "text/x-python",
   "name": "python",
   "nbconvert_exporter": "python",
   "pygments_lexer": "ipython3",
   "version": "3.10.9"
  }
 },
 "nbformat": 4,
 "nbformat_minor": 2
}
