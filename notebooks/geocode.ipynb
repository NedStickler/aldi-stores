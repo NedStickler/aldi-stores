{
 "cells": [
  {
   "cell_type": "code",
   "execution_count": null,
   "metadata": {},
   "outputs": [],
   "source": [
    "import uuid\n",
    "import os\n",
    "import requests\n",
    "import pandas as pd\n",
    "import geopandas as gpd\n",
    "from dotenv import load_dotenv\n",
    "from shapely.geometry import Point\n",
    "from time import sleep"
   ]
  },
  {
   "cell_type": "markdown",
   "metadata": {},
   "source": [
    "### Add UUIDs"
   ]
  },
  {
   "cell_type": "code",
   "execution_count": null,
   "metadata": {},
   "outputs": [],
   "source": [
    "aldi_df = pd.read_csv(\"../data/scraped_stores.csv\")\n",
    "aldi_df = aldi_df.iloc[:, 1:]\n",
    "aldi_df[\"uuid\"] = [str(uuid.uuid4()) for _ in range(aldi_df.shape[0])]"
   ]
  },
  {
   "cell_type": "markdown",
   "metadata": {},
   "source": [
    "### Geocode Stores"
   ]
  },
  {
   "cell_type": "code",
   "execution_count": null,
   "metadata": {},
   "outputs": [],
   "source": [
    "load_dotenv(\"../.env\")\n",
    "google_api_key = os.environ.get(\"GOOGLE_API_KEY\")\n",
    "\n",
    "base_url = \"https://maps.googleapis.com/maps/api/geocode/json?address=\"\n",
    "\n",
    "def geocode(address: str) -> Point:\n",
    "    sleep(0.02)\n",
    "    print(f\"Geocoding {address}\")\n",
    "    res = requests.get(f\"{base_url}ALDI, {address}&key={google_api_key}\")\n",
    "\n",
    "    if res.status_code != 200:\n",
    "        print(f\"FAILED: {res.status_code}\")\n",
    "        return None\n",
    "    \n",
    "    if res.json().get(\"status\") == \"ZERO_RESULTS\":\n",
    "        print(f\"FAILED: No results\")\n",
    "        return None\n",
    "    \n",
    "    location = res.json().get(\"results\")[0].get(\"geometry\").get(\"location\")\n",
    "    lat = location.get(\"lat\")\n",
    "    lon = location.get(\"lng\")\n",
    "    return Point(lon, lat)\n",
    "\n",
    "aldi_df[\"geometry\"] = aldi_df[\"full_address\"].apply(geocode)\n",
    "aldi_gdf = gpd.GeoDataFrame(aldi_df, crs=\"EPSG:4326\")"
   ]
  },
  {
   "cell_type": "code",
   "execution_count": null,
   "metadata": {},
   "outputs": [],
   "source": [
    "manual_geocode = {\n",
    "    251: Point(-1.763692473483625, 53.81636898310299),\n",
    "    345: Point(-4.2137573022227075, 55.854817001581196),\n",
    "    389: Point(-0.7487276312703152, 51.30766641207592),\n",
    "    400: Point(-0.688799660073178, 52.03520827497847),\n",
    "    425: Point(-0.5431430024338115, 51.32362945134225),\n",
    "    559: Point(-1.8969025023805457, 52.49677080787523),\n",
    "    842: Point(-4.169406786883136, 55.779735347026595),\n",
    "    867: Point(-3.4688902175386027, 56.41950541807793),\n",
    "    962: Point(-1.5190461735490193, 52.402724341328124)\n",
    "}\n",
    "\n",
    "for key in manual_geocode.keys():\n",
    "    aldi_gdf.loc[key, \"geometry\"] = manual_geocode[key]"
   ]
  }
 ],
 "metadata": {
  "kernelspec": {
   "display_name": "venv",
   "language": "python",
   "name": "python3"
  },
  "language_info": {
   "name": "python",
   "version": "3.10.4"
  }
 },
 "nbformat": 4,
 "nbformat_minor": 2
}
