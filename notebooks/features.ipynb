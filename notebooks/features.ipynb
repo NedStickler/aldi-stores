{
 "cells": [
  {
   "cell_type": "code",
   "execution_count": null,
   "metadata": {},
   "outputs": [],
   "source": [
    "# TODO:\n",
    "# - Check notes on phone\n",
    "# - Population density\n",
    "# - Competitors\n",
    "# - Cost of living impact\n",
    "# - COVID impact?\n",
    "# - Footfall?"
   ]
  },
  {
   "cell_type": "code",
   "execution_count": 2,
   "metadata": {},
   "outputs": [],
   "source": [
    "import pandas as pd\n",
    "import geopandas as gpd"
   ]
  },
  {
   "cell_type": "markdown",
   "metadata": {},
   "source": [
    "### Income"
   ]
  },
  {
   "cell_type": "code",
   "execution_count": 28,
   "metadata": {},
   "outputs": [],
   "source": [
    "# England and Wales\n",
    "msoa_gdf = gpd.read_file(\"../data/msoa.geojson\")\n",
    "msoa_gdf = msoa_gdf.drop(columns=[\"BNG_E\", \"BNG_N\"])\n",
    "\n",
    "ew_income_df = pd.read_excel(\"../data/income_ew.xlsx\", sheet_name=\"Total annual income\")\n",
    "ew_income_df.columns = ew_income_df.iloc[3]\n",
    "ew_income_df = ew_income_df.iloc[4:]\n",
    "\n",
    "msoa_gdf = msoa_gdf.merge(ew_income_df[[\"MSOA code\", \"Total annual income (£)\"]], left_on=\"MSOA21CD\", right_on=\"MSOA code\", how=\"left\")\n",
    "msoa_gdf[\"Total annual income (£)\"] = msoa_gdf[\"Total annual income (£)\"].astype(float)\n",
    "\n",
    "for _ in range(2):\n",
    "    missing_income_gdf = msoa_gdf.loc[msoa_gdf[\"Total annual income (£)\"].isna()].copy()\n",
    "    missing_income_gdf[\"geometry_with_buffer\"] = missing_income_gdf.to_crs(\"EPSG:27700\")[\"geometry\"].buffer(5).to_crs(\"EPSG:4326\")\n",
    "    not_missing_income_gdf = msoa_gdf.loc[msoa_gdf[\"Total annual income (£)\"].notna()].copy()\n",
    "    surrounding_msoas_gdf = missing_income_gdf.set_geometry(\"geometry_with_buffer\").sjoin(not_missing_income_gdf)\n",
    "    estimated_income_df = surrounding_msoas_gdf[[\"MSOA21NM_left\", \"Total annual income (£)_right\"]].groupby(\"MSOA21NM_left\").agg({\"Total annual income (£)_right\": \"mean\"}).reset_index()\n",
    "\n",
    "    for i, row in estimated_income_df.iterrows():\n",
    "        msoa_gdf.loc[msoa_gdf[\"MSOA21NM\"] == row[\"MSOA21NM_left\"], \"Total annual income (£)\"] = row[\"Total annual income (£)_right\"]\n",
    "msoa_gdf = msoa_gdf.drop(columns=[\"MSOA code\"])\n",
    "msoa_gdf = msoa_gdf.rename(columns={\"Total annual income (£)\": \"household_income\"})"
   ]
  },
  {
   "cell_type": "code",
   "execution_count": 88,
   "metadata": {},
   "outputs": [],
   "source": [
    "# Scotland\n",
    "scotland_la_gdf = gpd.read_file(\"../data/scotland_la.geojson\")\n",
    "scotland_income_df = pd.read_excel(\"../data/income_sv2.xlsx\", sheet_name=\"Income Estimates 2018\")\n",
    "\n",
    "scotland_income_df.columns = scotland_income_df.iloc[4]\n",
    "scotland_income_df = scotland_income_df.iloc[5:]\n",
    "scotland_income_df = scotland_income_df.groupby(\"Local Authority Area Namer2\").agg({\"Mean Gross Household Income per week\": \"mean\"}).reset_index()\n",
    "scotland_income_df = scotland_income_df.rename(columns={\"Local Authority Area Namer2\": \"local_authority\", \"Mean Gross Household Income per week\": \"household_income\"})\n",
    "scotland_income_df[\"household_income\"] *= 52\n",
    "scotland_income_df[\"local_authority\"] = scotland_income_df[\"local_authority\"].str.replace(\"&\", \"and\")\n",
    "\n",
    "scotland_la_gdf = scotland_la_gdf.merge(scotland_income_df, on=\"local_authority\", how=\"left\")\n",
    "scotland_la_gdf.loc[25, \"household_income\"] = scotland_income_df.loc[11, \"household_income\"]\n",
    "scotland_la_gdf.loc[31, \"household_income\"] = scotland_income_df.loc[12, \"household_income\"]"
   ]
  },
  {
   "cell_type": "markdown",
   "metadata": {},
   "source": [
    "### Population"
   ]
  }
 ],
 "metadata": {
  "kernelspec": {
   "display_name": "venv",
   "language": "python",
   "name": "python3"
  },
  "language_info": {
   "codemirror_mode": {
    "name": "ipython",
    "version": 3
   },
   "file_extension": ".py",
   "mimetype": "text/x-python",
   "name": "python",
   "nbconvert_exporter": "python",
   "pygments_lexer": "ipython3",
   "version": "3.10.4"
  }
 },
 "nbformat": 4,
 "nbformat_minor": 2
}
