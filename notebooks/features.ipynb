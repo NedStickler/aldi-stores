{
 "cells": [
  {
   "cell_type": "code",
   "execution_count": null,
   "metadata": {},
   "outputs": [],
   "source": [
    "# TODO:\n",
    "# - Check notes on phone\n",
    "# - Population density\n",
    "# - Competitors\n",
    "# - Cost of living impact\n",
    "# - COVID impact?\n",
    "# - Footfall?"
   ]
  },
  {
   "cell_type": "code",
   "execution_count": 1,
   "metadata": {},
   "outputs": [],
   "source": [
    "import pandas as pd\n",
    "import geopandas as gpd"
   ]
  },
  {
   "cell_type": "markdown",
   "metadata": {},
   "source": [
    "### Income"
   ]
  },
  {
   "cell_type": "code",
   "execution_count": 17,
   "metadata": {},
   "outputs": [],
   "source": [
    "msoa_gdf = gpd.read_file(\"../data/msoa.geojson\")\n",
    "msoa_gdf = msoa_gdf.drop(columns=[\"BNG_E\", \"BNG_N\"])\n",
    "income_df = pd.read_excel(\"../data/income.xlsx\", sheet_name=\"Total annual income\")\n",
    "income_df.columns = income_df.iloc[3]\n",
    "income_df = income_df.iloc[4:]\n",
    "msoa_gdf = msoa_gdf.merge(income_df[[\"MSOA code\", \"Total annual income (£)\"]], left_on=\"MSOA21CD\", right_on=\"MSOA code\", how=\"left\")\n",
    "msoa_gdf[\"Total annual income (£)\"] = msoa_gdf[\"Total annual income (£)\"].astype(float)"
   ]
  },
  {
   "cell_type": "code",
   "execution_count": 18,
   "metadata": {},
   "outputs": [],
   "source": [
    "for _ in range(2):\n",
    "    missing_income_gdf = msoa_gdf.loc[msoa_gdf[\"Total annual income (£)\"].isna()].copy()\n",
    "    missing_income_gdf[\"geometry_with_buffer\"] = missing_income_gdf.to_crs(\"EPSG:27700\")[\"geometry\"].buffer(5).to_crs(\"EPSG:4326\")\n",
    "    not_missing_income_gdf = msoa_gdf.loc[msoa_gdf[\"Total annual income (£)\"].notna()].copy()\n",
    "    surrounding_msoas_gdf = missing_income_gdf.set_geometry(\"geometry_with_buffer\").sjoin(not_missing_income_gdf)\n",
    "    estimated_income_df = surrounding_msoas_gdf[[\"MSOA21NM_left\", \"Total annual income (£)_right\"]].groupby(\"MSOA21NM_left\").agg({\"Total annual income (£)_right\": \"mean\"}).reset_index()\n",
    "\n",
    "    for i, row in estimated_income_df.iterrows():\n",
    "        msoa_gdf.loc[msoa_gdf[\"MSOA21NM\"] == row[\"MSOA21NM_left\"], \"Total annual income (£)\"] = row[\"Total annual income (£)_right\"]\n",
    "msoa_gdf = msoa_gdf.drop(columns=[\"MSOA code\"])\n",
    "msoa_gdf = msoa_gdf.rename(columns={\"Total annual income (£)\": \"household_income\"})"
   ]
  },
  {
   "cell_type": "markdown",
   "metadata": {},
   "source": [
    "### Population"
   ]
  }
 ],
 "metadata": {
  "kernelspec": {
   "display_name": "venv",
   "language": "python",
   "name": "python3"
  },
  "language_info": {
   "codemirror_mode": {
    "name": "ipython",
    "version": 3
   },
   "file_extension": ".py",
   "mimetype": "text/x-python",
   "name": "python",
   "nbconvert_exporter": "python",
   "pygments_lexer": "ipython3",
   "version": "3.10.4"
  }
 },
 "nbformat": 4,
 "nbformat_minor": 2
}
